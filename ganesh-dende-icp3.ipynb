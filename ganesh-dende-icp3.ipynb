{
 "cells": [
  {
   "cell_type": "code",
   "execution_count": 1,
   "metadata": {
    "colab": {
     "base_uri": "https://localhost:8080/"
    },
    "id": "QQ1l2O2GRbhD",
    "outputId": "933100d6-0fb5-46c5-92e5-25eb7fb0cec4"
   },
   "outputs": [
    {
     "name": "stdout",
     "output_type": "stream",
     "text": [
      "Random Vector: [15  3 19  4  6  4  9  1 14 11 10  8 13 10  4]\n",
      "\n",
      "Reshaped Array (3x5):\n",
      " [[15  3 19  4  6]\n",
      " [ 4  9  1 14 11]\n",
      " [10  8 13 10  4]]\n",
      "\n",
      "Array after replacing max in each row by 0:\n",
      " [[15  3  0  4  6]\n",
      " [ 4  9  1  0 11]\n",
      " [10  8  0 10  4]]\n",
      "\n",
      "2D Array (4x3) with 4-byte integers:\n",
      " [[0 0 0]\n",
      " [0 0 0]\n",
      " [0 0 0]\n",
      " [0 0 0]]\n",
      "Shape of the 2D array: (4, 3)\n",
      "Type of the array: <class 'numpy.ndarray'>\n",
      "Data type of the array elements: int32\n"
     ]
    }
   ],
   "source": [
    "import numpy as np\n",
    "\n",
    "# Step 1: Create a random vector of size 15 with integers in the range 1 to 20\n",
    "random_vector = np.random.randint(1, 21, size=15)\n",
    "print(\"Random Vector:\", random_vector)\n",
    "\n",
    "# Step 2: Reshape the array to 3x5\n",
    "reshaped_array = random_vector.reshape(3, 5)\n",
    "print(\"\\nReshaped Array (3x5):\\n\", reshaped_array)\n",
    "\n",
    "# Step 3: Replace the max in each row by 0\n",
    "# Iterate over each row and replace the maximum value with 0\n",
    "for i in range(reshaped_array.shape[0]):\n",
    "    max_value_index = np.argmax(reshaped_array[i])\n",
    "    reshaped_array[i][max_value_index] = 0\n",
    "\n",
    "print(\"\\nArray after replacing max in each row by 0:\\n\", reshaped_array)\n",
    "\n",
    "# Step 4: Create a 2D array of size 4x3 with 4-byte integers\n",
    "two_d_array = np.zeros((4, 3), dtype=np.int32)\n",
    "print(\"\\n2D Array (4x3) with 4-byte integers:\\n\", two_d_array)\n",
    "print(\"Shape of the 2D array:\", two_d_array.shape)\n",
    "print(\"Type of the array:\", type(two_d_array))\n",
    "print(\"Data type of the array elements:\", two_d_array.dtype)\n"
   ]
  },
  {
   "cell_type": "code",
   "execution_count": 2,
   "metadata": {
    "colab": {
     "base_uri": "https://localhost:8080/"
    },
    "id": "hTHQTrBSR-u2",
    "outputId": "cd3279be-4ff0-4f51-d0ec-fb4d629ba12a"
   },
   "outputs": [
    {
     "name": "stdout",
     "output_type": "stream",
     "text": [
      "Matrix A:\n",
      "[[ 3 -2]\n",
      " [ 1  0]]\n",
      "\n",
      "Eigenvalues:\n",
      "[2. 1.]\n",
      "\n",
      "Right Eigenvectors:\n",
      "[[0.89442719 0.70710678]\n",
      " [0.4472136  0.70710678]]\n"
     ]
    }
   ],
   "source": [
    "import numpy as np\n",
    "\n",
    "# Define the matrix\n",
    "A = np.array([[3, -2],\n",
    "              [1,  0]])\n",
    "\n",
    "# Compute the eigenvalues and right eigenvectors\n",
    "eigenvalues, eigenvectors = np.linalg.eig(A)\n",
    "\n",
    "# Display the results\n",
    "print(\"Matrix A:\")\n",
    "print(A)\n",
    "print(\"\\nEigenvalues:\")\n",
    "print(eigenvalues)\n",
    "print(\"\\nRight Eigenvectors:\")\n",
    "print(eigenvectors)\n"
   ]
  },
  {
   "cell_type": "code",
   "execution_count": 3,
   "metadata": {
    "colab": {
     "base_uri": "https://localhost:8080/"
    },
    "id": "a7w00cJBSQ5g",
    "outputId": "fc27c723-1097-4048-8855-9db59c81c9c0"
   },
   "outputs": [
    {
     "name": "stdout",
     "output_type": "stream",
     "text": [
      "Array:\n",
      "[[0 1 2]\n",
      " [3 4 5]]\n",
      "\n",
      "Diagonal Elements: [0 4]\n",
      "Sum of Diagonal Elements: 4\n"
     ]
    }
   ],
   "source": [
    "import numpy as np\n",
    "\n",
    "# Define the array\n",
    "array = np.array([[0, 1, 2],\n",
    "                  [3, 4, 5]])\n",
    "\n",
    "# Extract the diagonal elements\n",
    "diagonal_elements = np.diag(array)\n",
    "\n",
    "# Compute the sum of the diagonal elements\n",
    "sum_of_diagonal = np.sum(diagonal_elements)\n",
    "\n",
    "# Display the results\n",
    "print(\"Array:\")\n",
    "print(array)\n",
    "print(\"\\nDiagonal Elements:\", diagonal_elements)\n",
    "print(\"Sum of Diagonal Elements:\", sum_of_diagonal)\n"
   ]
  },
  {
   "cell_type": "code",
   "execution_count": 4,
   "metadata": {
    "colab": {
     "base_uri": "https://localhost:8080/"
    },
    "id": "H8R1UueBSSyI",
    "outputId": "1fa101e7-708d-493d-c61b-731cc45851cb"
   },
   "outputs": [
    {
     "name": "stdout",
     "output_type": "stream",
     "text": [
      "Original Array:\n",
      "[[1 2]\n",
      " [3 4]\n",
      " [5 6]]\n",
      "\n",
      "Reshaped Array (2x3):\n",
      "[[1 2 3]\n",
      " [4 5 6]]\n",
      "\n",
      "Reshaped Array (3x2):\n",
      "[[1 2]\n",
      " [3 4]\n",
      " [5 6]]\n"
     ]
    }
   ],
   "source": [
    "import numpy as np\n",
    "\n",
    "# Define the original array\n",
    "original_array = np.array([[1, 2],\n",
    "                           [3, 4],\n",
    "                           [5, 6]])\n",
    "\n",
    "# Reshape to 2x3\n",
    "reshaped_2x3 = original_array.reshape(2, 3)\n",
    "\n",
    "# Reshape to 3x2 (original shape)\n",
    "reshaped_3x2 = original_array.reshape(3, 2)\n",
    "\n",
    "# Display the results\n",
    "print(\"Original Array:\")\n",
    "print(original_array)\n",
    "print(\"\\nReshaped Array (2x3):\")\n",
    "print(reshaped_2x3)\n",
    "print(\"\\nReshaped Array (3x2):\")\n",
    "print(reshaped_3x2)\n"
   ]
  }
 ],
 "metadata": {
  "colab": {
   "provenance": []
  },
  "kernelspec": {
   "display_name": "Python 3 (ipykernel)",
   "language": "python",
   "name": "python3"
  },
  "language_info": {
   "codemirror_mode": {
    "name": "ipython",
    "version": 3
   },
   "file_extension": ".py",
   "mimetype": "text/x-python",
   "name": "python",
   "nbconvert_exporter": "python",
   "pygments_lexer": "ipython3",
   "version": "3.11.5"
  }
 },
 "nbformat": 4,
 "nbformat_minor": 1
}
