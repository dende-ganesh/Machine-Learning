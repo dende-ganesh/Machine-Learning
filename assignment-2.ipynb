{
 "cells": [
  {
   "cell_type": "markdown",
   "id": "1cf68461",
   "metadata": {},
   "source": [
    "# Program 1  display star pattern\n"
   ]
  },
  {
   "cell_type": "code",
   "execution_count": 7,
   "id": "9a6dfea6",
   "metadata": {},
   "outputs": [
    {
     "name": "stdout",
     "output_type": "stream",
     "text": [
      "Enter the length of star pattern5\n",
      "* \n",
      "* * \n",
      "* * * \n",
      "* * * * \n",
      "* * * * * \n",
      "* * * * \n",
      "* * * \n",
      "* * \n",
      "* \n"
     ]
    }
   ],
   "source": [
    "num=int(input(\"Enter the length of star pattern\"))\n",
    "for i in range(1,num+1):\n",
    "    print(\"* \"*i)\n",
    "for j in range(i-1,0,-1):\n",
    "    print(\"* \"*j)\n"
   ]
  },
  {
   "cell_type": "code",
   "execution_count": 8,
   "id": "0a52d7fa",
   "metadata": {},
   "outputs": [],
   "source": [
    "# Program to dispaly elements at odd indexes in list"
   ]
  },
  {
   "cell_type": "code",
   "execution_count": 11,
   "id": "9768dc75",
   "metadata": {},
   "outputs": [
    {
     "name": "stdout",
     "output_type": "stream",
     "text": [
      "20\n",
      "40\n",
      "60\n",
      "80\n",
      "100\n"
     ]
    }
   ],
   "source": [
    "my_list=[10,20,30,40,50,60,70,80,90,100]\n",
    "for i in range(len(my_list)):\n",
    "    if(i%2!=0):\n",
    "        print(my_list[i])\n",
    "        \n",
    "        "
   ]
  },
  {
   "cell_type": "code",
   "execution_count": 12,
   "id": "ad669c0f",
   "metadata": {},
   "outputs": [],
   "source": [
    "# Program 3 to print type of elements in the list"
   ]
  },
  {
   "cell_type": "code",
   "execution_count": 14,
   "id": "a8e33026",
   "metadata": {},
   "outputs": [
    {
     "name": "stdout",
     "output_type": "stream",
     "text": [
      "[<class 'int'>, <class 'str'>, <class 'float'>]\n"
     ]
    }
   ],
   "source": [
    "x=[23,\"Python\",23.98]\n",
    "l=[]\n",
    "for i in x:\n",
    "    l.append(type(i))\n",
    "print(l)"
   ]
  },
  {
   "cell_type": "code",
   "execution_count": 17,
   "id": "6c3bf1bf",
   "metadata": {},
   "outputs": [
    {
     "name": "stdout",
     "output_type": "stream",
     "text": [
      "[1, 2, 3, 4, 5]\n"
     ]
    }
   ],
   "source": [
    "# Program 4 to return unique elements in the list\n",
    "\n",
    "def uniqueElements(arr):\n",
    "    l=[]\n",
    "    for i in arr:\n",
    "        if( i not in l):\n",
    "            l.append(i)\n",
    "    return l\n",
    "l=[1,2,3,3,3,3,4,5]\n",
    "print(uniqueElements(l))"
   ]
  },
  {
   "cell_type": "code",
   "execution_count": 20,
   "id": "cdaa88e7",
   "metadata": {},
   "outputs": [
    {
     "name": "stdout",
     "output_type": "stream",
     "text": [
      "No of Upper-case characters:  3\n",
      "No  of Lower-case characters:  12\n"
     ]
    }
   ],
   "source": [
    "def countCase(s):\n",
    "    lowerCount=0\n",
    "    upperCount=0\n",
    "    for i in s:\n",
    "        if(i.isupper()):\n",
    "            upperCount+=1\n",
    "        if(i.islower()):\n",
    "            lowerCount+=1\n",
    "    print(\"No of Upper-case characters: \",upperCount)\n",
    "    print(\"No  of Lower-case characters: \",lowerCount)\n",
    "    \n",
    "countCase(\"The quick Brow Fox\")\n",
    "            \n",
    "    \n",
    "    "
   ]
  }
 ],
 "metadata": {
  "kernelspec": {
   "display_name": "Python 3 (ipykernel)",
   "language": "python",
   "name": "python3"
  },
  "language_info": {
   "codemirror_mode": {
    "name": "ipython",
    "version": 3
   },
   "file_extension": ".py",
   "mimetype": "text/x-python",
   "name": "python",
   "nbconvert_exporter": "python",
   "pygments_lexer": "ipython3",
   "version": "3.11.5"
  }
 },
 "nbformat": 4,
 "nbformat_minor": 5
}
