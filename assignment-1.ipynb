{
 "cells": [
  {
   "cell_type": "code",
   "execution_count": 1,
   "id": "e1ef61d6",
   "metadata": {},
   "outputs": [
    {
     "name": "stdout",
     "output_type": "stream",
     "text": [
      "[19, 19, 20, 22, 24, 24, 24, 25, 25, 26]\n",
      "Min age in list 19\n",
      "Max age in list 26\n"
     ]
    }
   ],
   "source": [
    "#sorting and finding min age and max age\n",
    "ages= [19, 22, 19, 24, 20, 25, 26, 24, 25, 24]\n",
    "ages.sort()\n",
    "print(ages)\n",
    "mini=min(ages)\n",
    "maxi=max(ages)\n",
    "print(\"Min age in list\",mini)\n",
    "print(\"Max age in list\",maxi)"
   ]
  },
  {
   "cell_type": "code",
   "execution_count": 2,
   "id": "628a7606",
   "metadata": {},
   "outputs": [],
   "source": [
    "#adding min age and max to list\n",
    "ages.append(mini)\n",
    "ages.append(maxi)\n",
    "ages.sort()\n",
    "\n"
   ]
  },
  {
   "cell_type": "code",
   "execution_count": 3,
   "id": "79e8d32c",
   "metadata": {},
   "outputs": [
    {
     "name": "stdout",
     "output_type": "stream",
     "text": [
      "Median age is : 24\n"
     ]
    }
   ],
   "source": [
    "#median age\n",
    "if(len(ages)%2==0):\n",
    "    print(\"Median age is :\",ages[len(ages)//2])\n",
    "else :\n",
    "    print(\"Median age is :\",(ages[len(ages)//2]+ages[len(ages)//2+1])/2)"
   ]
  },
  {
   "cell_type": "code",
   "execution_count": 4,
   "id": "7c2c09a0",
   "metadata": {},
   "outputs": [
    {
     "name": "stdout",
     "output_type": "stream",
     "text": [
      "average age is : 22.75\n"
     ]
    }
   ],
   "source": [
    "#average age\n",
    "print(\"average age is :\",sum(ages)/len(ages))"
   ]
  },
  {
   "cell_type": "code",
   "execution_count": 5,
   "id": "72e47fa8",
   "metadata": {},
   "outputs": [
    {
     "name": "stdout",
     "output_type": "stream",
     "text": [
      "Range is : 7\n"
     ]
    }
   ],
   "source": [
    "#range\n",
    "print(\"Range is :\",maxi-mini)"
   ]
  },
  {
   "cell_type": "markdown",
   "id": "b938881b",
   "metadata": {},
   "source": [
    "<!-- Question 2 -->"
   ]
  },
  {
   "cell_type": "code",
   "execution_count": 6,
   "id": "a8a690d5",
   "metadata": {},
   "outputs": [
    {
     "name": "stdout",
     "output_type": "stream",
     "text": [
      "Length of student dictionary: 9\n",
      "Skills: ['Python', 'JavaScript']\n",
      "Data type of skills: <class 'list'>\n",
      "Updated skills: ['Python', 'JavaScript', 'HTML', 'CSS']\n",
      "Dictionary keys: ['first_name', 'last_name', 'gender', 'age', 'marital_status', 'skills', 'country', 'city', 'address']\n",
      "Dictionary values: ['John', 'Doe', 'Male', 20, 'Single', ['Python', 'JavaScript', 'HTML', 'CSS'], 'USA', 'New York', '123 Main St']\n"
     ]
    }
   ],
   "source": [
    "dog = {}\n",
    "\n",
    "dog['name'] = 'Buddy'\n",
    "dog['color'] = 'Brown'\n",
    "dog['breed'] = 'Golden Retriever'\n",
    "dog['legs'] = 4\n",
    "dog['age'] = 5\n",
    "\n",
    "student = {\n",
    "    'first_name': 'John',\n",
    "    'last_name': 'Doe',\n",
    "    'gender': 'Male',\n",
    "    'age': 20,\n",
    "    'marital_status': 'Single',\n",
    "    'skills': ['Python', 'JavaScript'],\n",
    "    'country': 'USA',\n",
    "    'city': 'New York',\n",
    "    'address': '123 Main St'\n",
    "}\n",
    "\n",
    "student_length = len(student)\n",
    "print(\"Length of student dictionary:\", student_length)\n",
    "\n",
    "skills = student['skills']\n",
    "print(\"Skills:\", skills)\n",
    "print(\"Data type of skills:\", type(skills))\n",
    "\n",
    "student['skills'].extend(['HTML', 'CSS'])\n",
    "print(\"Updated skills:\", student['skills'])\n",
    "\n",
    "student_keys = list(student.keys())\n",
    "print(\"Dictionary keys:\", student_keys)\n",
    "\n",
    "student_values = list(student.values())\n",
    "print(\"Dictionary values:\", student_values)\n"
   ]
  },
  {
   "cell_type": "code",
   "execution_count": 7,
   "id": "634b07ff",
   "metadata": {},
   "outputs": [
    {
     "name": "stdout",
     "output_type": "stream",
     "text": [
      "Siblings: ('Emily', 'Sophia', 'James', 'William')\n",
      "Number of siblings: 4\n",
      "('Emily', 'Sophia', 'James', 'William', 'john', 'millie')\n"
     ]
    }
   ],
   "source": [
    "sisters = ('Emily', 'Sophia')\n",
    "brothers = ('James', 'William')\n",
    "\n",
    "siblings = sisters + brothers\n",
    "\n",
    "num_siblings = len(siblings)\n",
    "\n",
    "print(\"Siblings:\", siblings)\n",
    "print(\"Number of siblings:\", num_siblings)\n",
    "\n",
    "family_members=siblings+(\"john\",\"millie\")\n",
    "print(family_members)"
   ]
  },
  {
   "cell_type": "code",
   "execution_count": 8,
   "id": "f5191343",
   "metadata": {},
   "outputs": [
    {
     "name": "stdout",
     "output_type": "stream",
     "text": [
      "Length of it_companies: 7\n",
      "it_companies after adding Twitter: {'Oracle', 'Google', 'Facebook', 'Twitter', 'IBM', 'Microsoft', 'Amazon', 'Apple'}\n",
      "it_companies after adding multiple companies: {'IBM', 'Microsoft', 'Apple', 'Spotify', 'Facebook', 'Oracle', 'Google', 'Twitter', 'Tesla', 'Amazon', 'Netflix'}\n",
      "it_companies after removing Oracle: {'IBM', 'Microsoft', 'Apple', 'Spotify', 'Facebook', 'Google', 'Twitter', 'Tesla', 'Amazon', 'Netflix'}\n",
      "A union B: {19, 20, 22, 24, 25, 26, 27, 28}\n",
      "A intersection B: {19, 20, 22, 24, 25, 26}\n",
      "Is A subset of B: True\n",
      "Are A and B disjoint sets: False\n",
      "A join B: {19, 20, 22, 24, 25, 26, 27, 28}\n",
      "B join A: {19, 20, 22, 24, 25, 26, 27, 28}\n",
      "A symmetric difference B: {27, 28}\n",
      "Length of age list: 8\n",
      "Length of age set: 5\n"
     ]
    }
   ],
   "source": [
    "it_companies = {'Facebook', 'Google', 'Microsoft', 'Apple', 'IBM', 'Oracle', 'Amazon'}\n",
    "A = {19, 22, 24, 20, 25, 26}\n",
    "B = {19, 22, 20, 25, 26, 24, 28, 27}\n",
    "age = [22, 19, 24, 25, 26, 24, 25, 24]\n",
    "\n",
    "# Find the length of the set it_companies\n",
    "length_it_companies = len(it_companies)\n",
    "print(\"Length of it_companies:\", length_it_companies)\n",
    "\n",
    "# Add 'Twitter' to it_companies\n",
    "it_companies.add('Twitter')\n",
    "print(\"it_companies after adding Twitter:\", it_companies)\n",
    "\n",
    "# Insert multiple IT companies at once to the set it_companies\n",
    "it_companies.update(['Netflix', 'Tesla', 'Spotify'])\n",
    "print(\"it_companies after adding multiple companies:\", it_companies)\n",
    "\n",
    "# Remove one of the companies from the set it_companies\n",
    "it_companies.remove('Oracle')\n",
    "print(\"it_companies after removing Oracle:\", it_companies)\n",
    "\n",
    "# Difference between remove and discard\n",
    "# remove() will raise a KeyError if the item does not exist\n",
    "# discard() will not raise an error if the item does not exist\n",
    "\n",
    "# Join A and B\n",
    "A_union_B = A.union(B)\n",
    "print(\"A union B:\", A_union_B)\n",
    "\n",
    "# Find A intersection B\n",
    "A_intersection_B = A.intersection(B)\n",
    "print(\"A intersection B:\", A_intersection_B)\n",
    "\n",
    "# Is A subset of B\n",
    "is_A_subset_B = A.issubset(B)\n",
    "print(\"Is A subset of B:\", is_A_subset_B)\n",
    "\n",
    "# Are A and B disjoint sets\n",
    "are_A_B_disjoint = A.isdisjoint(B)\n",
    "print(\"Are A and B disjoint sets:\", are_A_B_disjoint)\n",
    "\n",
    "# Join A with B and B with A\n",
    "A_join_B = A.union(B)\n",
    "B_join_A = B.union(A)\n",
    "print(\"A join B:\", A_join_B)\n",
    "print(\"B join A:\", B_join_A)\n",
    "\n",
    "# What is the symmetric difference between A and B\n",
    "A_symmetric_difference_B = A.symmetric_difference(B)\n",
    "print(\"A symmetric difference B:\", A_symmetric_difference_B)\n",
    "\n",
    "# Delete the sets completely\n",
    "del A\n",
    "del B\n",
    "del it_companies\n",
    "\n",
    "# Convert the ages to a set and compare the length of the list and the set\n",
    "age_set = set(age)\n",
    "print(\"Length of age list:\", len(age))\n",
    "print(\"Length of age set:\", len(age_set))\n"
   ]
  },
  {
   "cell_type": "code",
   "execution_count": 9,
   "id": "b6260ba4",
   "metadata": {},
   "outputs": [
    {
     "name": "stdout",
     "output_type": "stream",
     "text": [
      "Area of the circle with radius 30 meters: 2827.43 square meters\n",
      "Circumference of the circle with radius 30 meters: 188.50 meters\n",
      "Enter the radius of the circle in meters: 12\n",
      "Area of the circle with radius 12.0 meters: 452.39 square meters\n"
     ]
    }
   ],
   "source": [
    "import math\n",
    "\n",
    "# Given radius\n",
    "radius = 30\n",
    "\n",
    "# Calculate the area of the circle\n",
    "_area_of_circle_ = math.pi * (radius ** 2)\n",
    "# Calculate the circumference of the circle\n",
    "_circum_of_circle_ = 2 * math.pi * radius\n",
    "\n",
    "print(f\"Area of the circle with radius {radius} meters: {_area_of_circle_:.2f} square meters\")\n",
    "print(f\"Circumference of the circle with radius {radius} meters: {_circum_of_circle_:.2f} meters\")\n",
    "\n",
    "# Taking radius as user input\n",
    "user_radius = float(input(\"Enter the radius of the circle in meters: \"))\n",
    "\n",
    "# Calculate the area of the circle with user input radius\n",
    "user_area_of_circle = math.pi * (user_radius ** 2)\n",
    "\n",
    "print(f\"Area of the circle with radius {user_radius} meters: {user_area_of_circle:.2f} square meters\")\n"
   ]
  },
  {
   "cell_type": "code",
   "execution_count": null,
   "id": "7c5cee39",
   "metadata": {},
   "outputs": [],
   "source": []
  },
  {
   "cell_type": "code",
   "execution_count": 10,
   "id": "7a4ce5ac",
   "metadata": {},
   "outputs": [
    {
     "name": "stdout",
     "output_type": "stream",
     "text": [
      "The number of unique words in the sentence is: 10\n"
     ]
    }
   ],
   "source": [
    "# Given sentence\n",
    "sentence = \"I am a teacher and I love to inspire and teach people\"\n",
    "\n",
    "# Split the sentence into words\n",
    "words = sentence.split()\n",
    "\n",
    "# Convert the list of words into a set to get unique words\n",
    "unique_words = set(words)\n",
    "\n",
    "# Get the number of unique words\n",
    "number_of_unique_words = len(unique_words)\n",
    "\n",
    "print(f\"The number of unique words in the sentence is: {number_of_unique_words}\")\n"
   ]
  },
  {
   "cell_type": "code",
   "execution_count": 11,
   "id": "f896289a",
   "metadata": {},
   "outputs": [
    {
     "name": "stdout",
     "output_type": "stream",
     "text": [
      "Name\tAge\tCountry\tCity\n",
      "Asabeneh\t250\tFinland\tHelsinki\n"
     ]
    }
   ],
   "source": [
    "# Using tab escape sequences to format the lines\n",
    "formatted_text = \"Name\\tAge\\tCountry\\tCity\\nAsabeneh\\t250\\tFinland\\tHelsinki\"\n",
    "\n",
    "print(formatted_text)\n"
   ]
  },
  {
   "cell_type": "code",
   "execution_count": 12,
   "id": "8c0353bc",
   "metadata": {},
   "outputs": [
    {
     "name": "stdout",
     "output_type": "stream",
     "text": [
      "The area of a circle with radius 10 is 314.0 meters square.\n"
     ]
    }
   ],
   "source": [
    "radius = 10\n",
    "area = 3.14 * radius ** 2\n",
    "\n",
    "formatted_string = \"The area of a circle with radius {} is {} meters square.\".format(radius, area)\n",
    "print(formatted_string)\n"
   ]
  },
  {
   "cell_type": "code",
   "execution_count": 14,
   "id": "70bfdc32",
   "metadata": {},
   "outputs": [
    {
     "name": "stdout",
     "output_type": "stream",
     "text": [
      "Enter the number of students: 2\n",
      "Enter the weight of student 1 in lbs: 23\n",
      "Enter the weight of student 2 in lbs: 45\n",
      "Original weights in lbs: [23.0, 45.0]\n",
      "Converted weights in kg: [10.43, 20.41]\n"
     ]
    }
   ],
   "source": [
    "# Function to convert pounds to kilograms\n",
    "def pounds_to_kg(pounds):\n",
    "    return round(pounds * 0.453592, 2)\n",
    "\n",
    "# Read the number of students from the user\n",
    "N = int(input(\"Enter the number of students: \"))\n",
    "\n",
    "# Initialize an empty list to store the weights in pounds\n",
    "weights_lbs = []\n",
    "\n",
    "# Read the weights in pounds from the user\n",
    "for i in range(N):\n",
    "    weight = float(input(f\"Enter the weight of student {i + 1} in lbs: \"))\n",
    "    weights_lbs.append(weight)\n",
    "\n",
    "# Convert the weights to kilograms\n",
    "weights_kg = []\n",
    "for weight in weights_lbs:\n",
    "    weights_kg.append(pounds_to_kg(weight))\n",
    "\n",
    "# Print the original weights and the converted weights\n",
    "print(f\"Original weights in lbs: {weights_lbs}\")\n",
    "print(f\"Converted weights in kg: {weights_kg}\")\n"
   ]
  },
  {
   "cell_type": "markdown",
   "id": "9023b6b7",
   "metadata": {},
   "source": []
  }
 ],
 "metadata": {
  "kernelspec": {
   "display_name": "Python 3 (ipykernel)",
   "language": "python",
   "name": "python3"
  },
  "language_info": {
   "codemirror_mode": {
    "name": "ipython",
    "version": 3
   },
   "file_extension": ".py",
   "mimetype": "text/x-python",
   "name": "python",
   "nbconvert_exporter": "python",
   "pygments_lexer": "ipython3",
   "version": "3.11.5"
  }
 },
 "nbformat": 4,
 "nbformat_minor": 5
}
